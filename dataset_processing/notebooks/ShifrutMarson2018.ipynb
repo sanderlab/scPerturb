{
 "cells": [
  {
   "cell_type": "code",
   "execution_count": 1,
   "metadata": {},
   "outputs": [
    {
     "name": "stderr",
     "output_type": "stream",
     "text": [
      "/opt/homebrew/Caskroom/mambaforge/base/envs/pertpy/lib/python3.11/site-packages/tqdm/auto.py:21: TqdmWarning: IProgress not found. Please update jupyter and ipywidgets. See https://ipywidgets.readthedocs.io/en/stable/user_install.html\n",
      "  from .autonotebook import tqdm as notebook_tqdm\n",
      "OMP: Info #276: omp_set_nested routine deprecated, please use omp_set_max_active_levels instead.\n"
     ]
    }
   ],
   "source": [
    "import pertpy as pt\n",
    "import numpy as np\n",
    "import matplotlib.pyplot as plt\n",
    "import scanpy as sc\n",
    "import anndata as ad\n",
    "import pandas as pd "
   ]
  },
  {
   "cell_type": "code",
   "execution_count": 2,
   "metadata": {},
   "outputs": [],
   "source": [
    "adata_d1n = sc.read_10x_mtx('/Users/tessagreen/Documents/datasets/ShifrutMarson2018/GSE119450_RAW/GSM3375483_D1N_matrix')\n",
    "adata_d1n.obs.index = [x.split('-')[0] for x in adata_d1n.obs.index]\n",
    "adata_d1n.obs['sample'] = 'D1_nostim'\n",
    "adata_d1n.obs['patient'] = 'D1'\n",
    "\n",
    "\n",
    "adata_d2n = sc.read_10x_mtx('/Users/tessagreen/Documents/datasets/ShifrutMarson2018/GSE119450_RAW/GSM3375485_D2N_matrix')\n",
    "adata_d2n.obs.index = [x.split('-')[0] for x in adata_d2n.obs.index]\n",
    "adata_d2n.obs['sample'] = 'D2_nostim'\n",
    "adata_d2n.obs['patient'] = 'D2'\n",
    "\n",
    "adata_d1s = sc.read_10x_mtx('/Users/tessagreen/Documents/datasets/ShifrutMarson2018/GSE119450_RAW/GSM3375484_D1S_matrix')\n",
    "adata_d1s.obs.index = [x.split('-')[0] for x in adata_d1s.obs.index]\n",
    "adata_d1s.obs['sample'] = 'D1_stim'\n",
    "adata_d1s.obs['patient'] = 'D1'\n",
    "\n",
    "adata_d2s = sc.read_10x_mtx('/Users/tessagreen/Documents/datasets/ShifrutMarson2018/GSE119450_RAW/GSM3375486_D2S_matrix')\n",
    "adata_d2s.obs.index = [x.split('-')[0] for x in adata_d2s.obs.index]\n",
    "adata_d2s.obs['sample'] = 'D2_stim'\n",
    "adata_d2s.obs['patient'] = 'D2'"
   ]
  },
  {
   "cell_type": "code",
   "execution_count": 3,
   "metadata": {},
   "outputs": [],
   "source": [
    "obsmat_d1n = pd.read_csv('/Users/tessagreen/Documents/datasets/ShifrutMarson2018/GSE119450_RAW/GSM3375487_D1N_CellBC_sgRNA.csv', index_col=0)\n",
    "obsmat_d2n = pd.read_csv('/Users/tessagreen/Documents/datasets/ShifrutMarson2018/GSE119450_RAW/GSM3375489_D2N_CellBC_sgRNA.csv', index_col=0)\n",
    "obsmat_d1s = pd.read_csv('/Users/tessagreen/Documents/datasets/ShifrutMarson2018/GSE119450_RAW/GSM3375488_D1S_CellBC_sgRNA.csv', index_col=0)\n",
    "obsmat_d2s = pd.read_csv('/Users/tessagreen/Documents/datasets/ShifrutMarson2018/GSE119450_RAW/GSM3375490_D2S_CellBC_sgRNA.csv', index_col=0)\n",
    "\n"
   ]
  },
  {
   "cell_type": "code",
   "execution_count": 4,
   "metadata": {},
   "outputs": [],
   "source": [
    "def integrate_obsmat(adata, obsmat, copy=True):\n",
    "    \"\"\" set the corresponding columns of adata.obs to the values in obsmat.\n",
    "        copy boolean slows performance but prevents modification of original adata.\"\"\"\n",
    "    if copy:\n",
    "        adata = adata.copy() # make a copy so we don't modify the original\n",
    "    adata.obs['guide_id'] = 'NA'\n",
    "    adata.obs['guide_counts']= 0\n",
    "    for i in obsmat.index:\n",
    "        if i in adata.obs.index:\n",
    "            adata.obs.loc[i, 'guide_id'] = obsmat.loc[i]['gRNA.ID']\n",
    "            adata.obs.loc[i, 'guide_counts'] = obsmat.loc[i]['UMI.count']\n",
    "    return(adata)"
   ]
  },
  {
   "cell_type": "code",
   "execution_count": 5,
   "metadata": {},
   "outputs": [],
   "source": [
    "adata_d1n = integrate_obsmat(adata_d1n, obsmat_d1n, copy=False)\n",
    "adata_d2n = integrate_obsmat(adata_d2n, obsmat_d2n, copy=False)\n",
    "adata_d1s = integrate_obsmat(adata_d1s, obsmat_d1s, copy=False)\n",
    "adata_d2s = integrate_obsmat(adata_d2s, obsmat_d2s, copy=False)"
   ]
  },
  {
   "cell_type": "code",
   "execution_count": 6,
   "metadata": {},
   "outputs": [
    {
     "name": "stderr",
     "output_type": "stream",
     "text": [
      "/opt/homebrew/Caskroom/mambaforge/base/envs/pertpy/lib/python3.11/site-packages/anndata/_core/anndata.py:1818: UserWarning: Observation names are not unique. To make them unique, call `.obs_names_make_unique`.\n",
      "  utils.warn_names_duplicates(\"obs\")\n"
     ]
    }
   ],
   "source": [
    "adata = ad.concat([adata_d1n, adata_d2n, adata_d1s, adata_d2s], join='outer')"
   ]
  },
  {
   "cell_type": "code",
   "execution_count": 7,
   "metadata": {},
   "outputs": [],
   "source": [
    "adata.obs_names_make_unique()"
   ]
  },
  {
   "cell_type": "code",
   "execution_count": 8,
   "metadata": {},
   "outputs": [
    {
     "data": {
      "text/plain": [
       "sample\n",
       "D1_nostim    11105\n",
       "D1_stim      15829\n",
       "D2_nostim    11486\n",
       "D2_stim      13816\n",
       "dtype: int64"
      ]
     },
     "execution_count": 8,
     "metadata": {},
     "output_type": "execute_result"
    }
   ],
   "source": [
    "adata.obs.groupby('sample').size()"
   ]
  },
  {
   "cell_type": "code",
   "execution_count": 9,
   "metadata": {},
   "outputs": [
    {
     "data": {
      "text/plain": [
       "AAACCTGAGACACTAA                 [NA]\n",
       "AAACCTGAGAGACTTA                 [NA]\n",
       "AAACCTGAGCATCATC                 [NA]\n",
       "AAACCTGAGCGATTCT    [ES, sg26, PDCD1]\n",
       "AAACCTGAGGGCTTCC                 [NA]\n",
       "                          ...        \n",
       "TTTGTCATCCTCAACC                 [NA]\n",
       "TTTGTCATCTCGCATC                 [NA]\n",
       "TTTGTCATCTTAGAGC    [ES, sg34, TCEB2]\n",
       "TTTGTCATCTTATCTG    [ES, sg35, TCEB2]\n",
       "TTTGTCATCTTGTCAT                 [NA]\n",
       "Name: guide_id, Length: 52236, dtype: object"
      ]
     },
     "execution_count": 9,
     "metadata": {},
     "output_type": "execute_result"
    }
   ],
   "source": [
    "adata.obs['guide_id'].str.split('.')"
   ]
  },
  {
   "cell_type": "code",
   "execution_count": 10,
   "metadata": {},
   "outputs": [],
   "source": [
    "# split the entries column 'guide_id' that contain periods by the period, and\n",
    "# take the third element and put it into a new 'perturbation' column\n",
    "\n",
    "adata.obs['target'] = adata.obs['guide_id'].str.split('.').str[2]"
   ]
  },
  {
   "cell_type": "code",
   "execution_count": 11,
   "metadata": {},
   "outputs": [],
   "source": [
    "adata.obs['perturbation'] = adata.obs['target']\n",
    "# set all NaN values to \"control\"\n",
    "# commenting out to leave blank\n",
    "#adata.obs['perturbation'] = adata.obs['perturbation'].fillna('control')\n",
    "# set all NonTarget values to \"control\"\n",
    "adata.obs['perturbation'] = adata.obs['perturbation'].replace('NonTarget', 'control')"
   ]
  },
  {
   "cell_type": "code",
   "execution_count": 12,
   "metadata": {},
   "outputs": [],
   "source": [
    "adata.obs['perturbation_2'] = adata.obs['sample'].str.split('_').str[1]\n",
    "\n",
    "# set all \"nostim\" values to \"control\"\n",
    "adata.obs['perturbation_2'] = adata.obs['perturbation_2'].replace('nostim', 'control')"
   ]
  },
  {
   "cell_type": "code",
   "execution_count": 13,
   "metadata": {},
   "outputs": [
    {
     "data": {
      "text/plain": [
       "perturbation\n",
       "control     3541\n",
       "DGKA        2296\n",
       "PDCD1       1484\n",
       "TMEM222     1426\n",
       "BTLA        1412\n",
       "HAVCR2      1355\n",
       "CBLB        1327\n",
       "CD5         1080\n",
       "C10orf54    1058\n",
       "MEF2D       1026\n",
       "DGKZ        1020\n",
       "LCP2         981\n",
       "TCEB2        929\n",
       "RASA2        905\n",
       "CD3D         856\n",
       "LAG3         840\n",
       "SOCS1        835\n",
       "TNFRSF9      777\n",
       "CDKN1B       749\n",
       "ARID1A       625\n",
       "STAT6        572\n",
       "Name: count, dtype: int64"
      ]
     },
     "execution_count": 13,
     "metadata": {},
     "output_type": "execute_result"
    }
   ],
   "source": [
    "adata.obs['perturbation'].value_counts()"
   ]
  },
  {
   "cell_type": "code",
   "execution_count": 14,
   "metadata": {},
   "outputs": [],
   "source": [
    "adata.obs['disease']= \"healthy\"\n",
    "adata.obs['cancer']= False\n",
    "adata.obs['tissue_type']=\"primary\"\n",
    "adata.obs['organism']=\"human\"\n",
    "adata.obs['perturbation_type']=\"CRISPR\"\n",
    "adata.obs['perturbation_type_2']= \"TCR stimulation\"\n",
    "adata.obs['nperts']=0\n",
    "adata.obs['celltype']=\"T cells\""
   ]
  },
  {
   "cell_type": "code",
   "execution_count": 15,
   "metadata": {},
   "outputs": [],
   "source": [
    "# if perturbation is not np.nan, add one to nperts\n",
    "adata.obs.loc[adata.obs['perturbation'].isna(), 'nperts'] +=1"
   ]
  },
  {
   "cell_type": "code",
   "execution_count": 16,
   "metadata": {},
   "outputs": [],
   "source": [
    "# add a second perturbation when applicable\n",
    "adata.obs.loc[adata.obs['perturbation_2']==\"stim\",'nperts'] +=1"
   ]
  },
  {
   "cell_type": "code",
   "execution_count": 17,
   "metadata": {},
   "outputs": [
    {
     "data": {
      "text/plain": [
       "AAACCTGAGACACTAA    1\n",
       "AAACCTGAGAGACTTA    1\n",
       "AAACCTGAGCATCATC    1\n",
       "AAACCTGAGGGCTTCC    1\n",
       "AAACCTGAGGTTACCT    1\n",
       "                   ..\n",
       "TTTGTCAGTAGCGTGA    2\n",
       "TTTGTCATCATCGCTC    2\n",
       "TTTGTCATCCTCAACC    2\n",
       "TTTGTCATCTCGCATC    2\n",
       "TTTGTCATCTTGTCAT    2\n",
       "Name: nperts, Length: 27142, dtype: int64"
      ]
     },
     "execution_count": 17,
     "metadata": {},
     "output_type": "execute_result"
    }
   ],
   "source": [
    "adata.obs[adata.obs['perturbation'].isna()]['nperts']"
   ]
  },
  {
   "cell_type": "code",
   "execution_count": 18,
   "metadata": {},
   "outputs": [],
   "source": [
    "adata.var['mt'] = adata.var_names.str.startswith('MT-')  # annotate the group of mitochondrial genes as 'mt'\n",
    "adata.var['ribo']= adata.var_names.str.startswith('RPS') | adata.var_names.str.startswith('RPL') # annotate the group of ribosomal genes as 'ribo'"
   ]
  },
  {
   "cell_type": "code",
   "execution_count": 19,
   "metadata": {},
   "outputs": [],
   "source": [
    "qc =  sc.pp.calculate_qc_metrics(adata, qc_vars=['mt','ribo'], percent_top=None, log1p=False, inplace=False) "
   ]
  },
  {
   "cell_type": "code",
   "execution_count": 20,
   "metadata": {},
   "outputs": [],
   "source": [
    "\n",
    "adata.obs['ncounts'] = qc[0]['total_counts']\n",
    "adata.obs['ngenes'] = qc[0]['n_genes_by_counts']\n",
    "adata.obs['percent_mito'] = qc[0]['pct_counts_mt']\n",
    "adata.obs['percent_ribo'] = qc[0]['pct_counts_ribo']\n",
    "adata.var['ncounts'] = qc[1]['total_counts']\n",
    "adata.var['ncells'] = qc[1]['n_cells_by_counts']\n"
   ]
  },
  {
   "cell_type": "code",
   "execution_count": 21,
   "metadata": {},
   "outputs": [],
   "source": [
    "adata.var.drop(columns=['mt', 'ribo'], inplace=True)"
   ]
  },
  {
   "cell_type": "code",
   "execution_count": 22,
   "metadata": {},
   "outputs": [
    {
     "data": {
      "text/html": [
       "<div>\n",
       "<style scoped>\n",
       "    .dataframe tbody tr th:only-of-type {\n",
       "        vertical-align: middle;\n",
       "    }\n",
       "\n",
       "    .dataframe tbody tr th {\n",
       "        vertical-align: top;\n",
       "    }\n",
       "\n",
       "    .dataframe thead th {\n",
       "        text-align: right;\n",
       "    }\n",
       "</style>\n",
       "<table border=\"1\" class=\"dataframe\">\n",
       "  <thead>\n",
       "    <tr style=\"text-align: right;\">\n",
       "      <th></th>\n",
       "      <th>ncounts</th>\n",
       "      <th>ncells</th>\n",
       "    </tr>\n",
       "  </thead>\n",
       "  <tbody>\n",
       "    <tr>\n",
       "      <th>RP11-34P13.3</th>\n",
       "      <td>0.0</td>\n",
       "      <td>0</td>\n",
       "    </tr>\n",
       "    <tr>\n",
       "      <th>FAM138A</th>\n",
       "      <td>0.0</td>\n",
       "      <td>0</td>\n",
       "    </tr>\n",
       "    <tr>\n",
       "      <th>OR4F5</th>\n",
       "      <td>0.0</td>\n",
       "      <td>0</td>\n",
       "    </tr>\n",
       "    <tr>\n",
       "      <th>RP11-34P13.7</th>\n",
       "      <td>73.0</td>\n",
       "      <td>73</td>\n",
       "    </tr>\n",
       "    <tr>\n",
       "      <th>RP11-34P13.8</th>\n",
       "      <td>14.0</td>\n",
       "      <td>14</td>\n",
       "    </tr>\n",
       "    <tr>\n",
       "      <th>...</th>\n",
       "      <td>...</td>\n",
       "      <td>...</td>\n",
       "    </tr>\n",
       "    <tr>\n",
       "      <th>AC233755.2</th>\n",
       "      <td>0.0</td>\n",
       "      <td>0</td>\n",
       "    </tr>\n",
       "    <tr>\n",
       "      <th>AC233755.1</th>\n",
       "      <td>4.0</td>\n",
       "      <td>4</td>\n",
       "    </tr>\n",
       "    <tr>\n",
       "      <th>AC240274.1</th>\n",
       "      <td>296.0</td>\n",
       "      <td>287</td>\n",
       "    </tr>\n",
       "    <tr>\n",
       "      <th>AC213203.1</th>\n",
       "      <td>0.0</td>\n",
       "      <td>0</td>\n",
       "    </tr>\n",
       "    <tr>\n",
       "      <th>FAM231B</th>\n",
       "      <td>0.0</td>\n",
       "      <td>0</td>\n",
       "    </tr>\n",
       "  </tbody>\n",
       "</table>\n",
       "<p>33694 rows × 2 columns</p>\n",
       "</div>"
      ],
      "text/plain": [
       "              ncounts  ncells\n",
       "RP11-34P13.3      0.0       0\n",
       "FAM138A           0.0       0\n",
       "OR4F5             0.0       0\n",
       "RP11-34P13.7     73.0      73\n",
       "RP11-34P13.8     14.0      14\n",
       "...               ...     ...\n",
       "AC233755.2        0.0       0\n",
       "AC233755.1        4.0       4\n",
       "AC240274.1      296.0     287\n",
       "AC213203.1        0.0       0\n",
       "FAM231B           0.0       0\n",
       "\n",
       "[33694 rows x 2 columns]"
      ]
     },
     "execution_count": 22,
     "metadata": {},
     "output_type": "execute_result"
    }
   ],
   "source": [
    "adata.var"
   ]
  },
  {
   "cell_type": "code",
   "execution_count": 23,
   "metadata": {},
   "outputs": [
    {
     "data": {
      "text/plain": [
       "25094"
      ]
     },
     "execution_count": 23,
     "metadata": {},
     "output_type": "execute_result"
    }
   ],
   "source": [
    "adata.obs['perturbation'].value_counts().sum()"
   ]
  },
  {
   "cell_type": "code",
   "execution_count": 24,
   "metadata": {},
   "outputs": [
    {
     "data": {
      "text/plain": [
       "AnnData object with n_obs × n_vars = 52236 × 33694\n",
       "    obs: 'sample', 'patient', 'guide_id', 'guide_counts', 'target', 'perturbation', 'perturbation_2', 'disease', 'cancer', 'tissue_type', 'organism', 'perturbation_type', 'perturbation_type_2', 'nperts', 'celltype', 'ncounts', 'ngenes', 'percent_mito', 'percent_ribo'\n",
       "    var: 'ncounts', 'ncells'"
      ]
     },
     "execution_count": 24,
     "metadata": {},
     "output_type": "execute_result"
    }
   ],
   "source": [
    "adata"
   ]
  },
  {
   "cell_type": "code",
   "execution_count": 25,
   "metadata": {},
   "outputs": [],
   "source": [
    "adata.write_h5ad('/Users/tessagreen/Documents/datasets/ShifrutMarson2018/ShifrutMarson2018.h5ad')"
   ]
  },
  {
   "cell_type": "code",
   "execution_count": null,
   "metadata": {},
   "outputs": [],
   "source": []
  }
 ],
 "metadata": {
  "kernelspec": {
   "display_name": "pertpy",
   "language": "python",
   "name": "python3"
  },
  "language_info": {
   "codemirror_mode": {
    "name": "ipython",
    "version": 3
   },
   "file_extension": ".py",
   "mimetype": "text/x-python",
   "name": "python",
   "nbconvert_exporter": "python",
   "pygments_lexer": "ipython3",
   "version": "3.11.9"
  }
 },
 "nbformat": 4,
 "nbformat_minor": 2
}
