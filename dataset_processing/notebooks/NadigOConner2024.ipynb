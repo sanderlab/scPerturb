{
 "cells": [
  {
   "cell_type": "code",
   "execution_count": 3,
   "metadata": {},
   "outputs": [],
   "source": [
    "import numpy as np\n",
    "import scanpy as sc\n",
    "import pandas as pd"
   ]
  },
  {
   "cell_type": "code",
   "execution_count": 4,
   "metadata": {},
   "outputs": [],
   "source": [
    "jurkat = sc.read_h5ad('/Users/tessagreen/Documents/datasets/NadigOConner2024/GSE264667_jurkat_raw_singlecell_01.h5ad')"
   ]
  },
  {
   "cell_type": "code",
   "execution_count": 5,
   "metadata": {},
   "outputs": [],
   "source": [
    "#k562 = sc.read_h5ad('/Users/tessagreen/Documents/datasets/ReplogleWeissman2022_K562_essential.h5ad')\n",
    "#datlinger = sc.read_h5ad(\"/Users/tessagreen/Documents/datasets/DatlingerBock2017.h5ad\")"
   ]
  },
  {
   "cell_type": "code",
   "execution_count": 6,
   "metadata": {},
   "outputs": [],
   "source": [
    "jurkat.obs['disease'] = \"acute T cell leukemia\"\n",
    "jurkat.obs['cancer'] = True\n",
    "jurkat.obs['cell_line'] = \"Jurkat\"\n",
    "jurkat.obs['organism'] = \"human\"\n",
    "jurkat.obs[\"perturbation_type\"] = \"CRISPR\"\n",
    "jurkat.obs['tissue_type']=\"cell_line\"\n",
    "# relabel column \"gene\" in obs as perturbation\n",
    "jurkat.obs['perturbation'] = jurkat.obs['gene']\n",
    "# drop column gene from obs\n"
   ]
  },
  {
   "cell_type": "code",
   "execution_count": 7,
   "metadata": {},
   "outputs": [
    {
     "name": "stderr",
     "output_type": "stream",
     "text": [
      "/var/folders/1c/sqv2cjg97gncy4p2xvdsgsfr0000gn/T/ipykernel_71444/2367219952.py:7: FutureWarning: The behavior of Series.replace (and DataFrame.replace) with CategoricalDtype is deprecated. In a future version, replace will only be used for cases that preserve the categories. To change the categories, use ser.cat.rename_categories instead.\n",
      "  jurkat.obs['perturbation'] = jurkat.obs['perturbation'].replace(\"non-targeting\",\"control\")\n"
     ]
    }
   ],
   "source": [
    "jurkat.obs.rename(columns={\"mitopercent\": \"percent_mito\", \"sgID_AB\":\"guide_id\", \"gem_group\":\"batch\"},inplace=True)\n",
    "jurkat.obs['ncounts']= jurkat.X.sum(1)\n",
    "jurkat.obs['ngenes'] = np.count_nonzero(jurkat.X, axis =1)\n",
    "jurkat.obs[\"nperts\"] = 1\n",
    "jurkat.obs.loc[jurkat.obs['gene'] == \"non-targeting\",\"nperts\"] = 0 \n",
    "# change the category \"non-targeting\" to \"control\" in the \"perturbation\" column of obs\n",
    "jurkat.obs['perturbation'] = jurkat.obs['perturbation'].replace(\"non-targeting\",\"control\")\n",
    "\n",
    "\n",
    "# percent_ribo\n",
    "ribomat = jurkat[:,jurkat.var[\"gene_name\"].str.startswith((\"RPS\",\"RPL\"))]\n",
    "ribomat = ribomat.X.sum(1)\n",
    "jurkat.obs['percent_ribo'] = np.divide(ribomat, jurkat.obs['ncounts'])"
   ]
  },
  {
   "cell_type": "code",
   "execution_count": 8,
   "metadata": {},
   "outputs": [
    {
     "data": {
      "text/html": [
       "<div>\n",
       "<style scoped>\n",
       "    .dataframe tbody tr th:only-of-type {\n",
       "        vertical-align: middle;\n",
       "    }\n",
       "\n",
       "    .dataframe tbody tr th {\n",
       "        vertical-align: top;\n",
       "    }\n",
       "\n",
       "    .dataframe thead th {\n",
       "        text-align: right;\n",
       "    }\n",
       "</style>\n",
       "<table border=\"1\" class=\"dataframe\">\n",
       "  <thead>\n",
       "    <tr style=\"text-align: right;\">\n",
       "      <th></th>\n",
       "      <th>gene_name</th>\n",
       "      <th>chr</th>\n",
       "      <th>start</th>\n",
       "      <th>end</th>\n",
       "      <th>class</th>\n",
       "      <th>strand</th>\n",
       "      <th>length</th>\n",
       "      <th>in_matrix</th>\n",
       "      <th>mean</th>\n",
       "      <th>std</th>\n",
       "      <th>cv</th>\n",
       "      <th>fano</th>\n",
       "    </tr>\n",
       "    <tr>\n",
       "      <th>gene_id</th>\n",
       "      <th></th>\n",
       "      <th></th>\n",
       "      <th></th>\n",
       "      <th></th>\n",
       "      <th></th>\n",
       "      <th></th>\n",
       "      <th></th>\n",
       "      <th></th>\n",
       "      <th></th>\n",
       "      <th></th>\n",
       "      <th></th>\n",
       "      <th></th>\n",
       "    </tr>\n",
       "  </thead>\n",
       "  <tbody>\n",
       "    <tr>\n",
       "      <th>ENSG00000187522</th>\n",
       "      <td>HSPA14</td>\n",
       "      <td>chr10</td>\n",
       "      <td>14838306</td>\n",
       "      <td>14871741</td>\n",
       "      <td>gene_version16</td>\n",
       "      <td>+</td>\n",
       "      <td>33435</td>\n",
       "      <td>True</td>\n",
       "      <td>0.697619</td>\n",
       "      <td>0.97715</td>\n",
       "      <td>1.400693</td>\n",
       "      <td>1.368687</td>\n",
       "    </tr>\n",
       "  </tbody>\n",
       "</table>\n",
       "</div>"
      ],
      "text/plain": [
       "                gene_name    chr     start       end           class strand  \\\n",
       "gene_id                                                                       \n",
       "ENSG00000187522    HSPA14  chr10  14838306  14871741  gene_version16      +   \n",
       "\n",
       "                 length  in_matrix      mean      std        cv      fano  \n",
       "gene_id                                                                    \n",
       "ENSG00000187522   33435       True  0.697619  0.97715  1.400693  1.368687  "
      ]
     },
     "execution_count": 8,
     "metadata": {},
     "output_type": "execute_result"
    }
   ],
   "source": [
    "jurkat.var[jurkat.var['gene_name'].duplicated()]"
   ]
  },
  {
   "cell_type": "code",
   "execution_count": 9,
   "metadata": {},
   "outputs": [],
   "source": [
    "jurkat.var['gene_name'] = jurkat.var['gene_name'].astype(\"object\")\n",
    "jurkat.var.loc[jurkat.var['gene_name'] == \"HSPA14\",'gene_name']  = 'HSPA14_'+jurkat.var.loc[jurkat.var['gene_name'] == \"HSPA14\",:].index.values\n",
    "\n",
    "jurkat.var['ensembl_id'] = jurkat.var.index\n",
    "jurkat.var.set_index('gene_name', inplace=True)"
   ]
  },
  {
   "cell_type": "code",
   "execution_count": 10,
   "metadata": {},
   "outputs": [],
   "source": [
    "jurkat.var['ncounts'] = jurkat.X.sum(0)\n",
    "jurkat.var['ncells'] = np.count_nonzero(jurkat.X, axis =0)"
   ]
  },
  {
   "cell_type": "code",
   "execution_count": 11,
   "metadata": {},
   "outputs": [],
   "source": [
    "jurkat.write_h5ad(\"NadigOConner2024_jurkat.h5ad\", compression=\"gzip\")"
   ]
  },
  {
   "cell_type": "code",
   "execution_count": 12,
   "metadata": {},
   "outputs": [],
   "source": [
    "hepg2 = sc.read_h5ad('/Users/tessagreen/Documents/datasets/NadigOConner2024/GSE264667_hepg2_raw_singlecell_01.h5ad')"
   ]
  },
  {
   "cell_type": "code",
   "execution_count": 13,
   "metadata": {},
   "outputs": [],
   "source": [
    "hepg2.obs['disease'] = \"hepatoblastoma\"\n",
    "hepg2.obs['cancer'] = True\n",
    "hepg2.obs['cell_line'] = \"Hep-G2\"\n",
    "hepg2.obs['organism'] = \"human\"\n",
    "hepg2.obs[\"perturbation_type\"] = \"CRISPR\"\n",
    "hepg2.obs['tissue_type']=\"cell_line\"\n",
    "# create perturbation column\n",
    "hepg2.obs['perturbation'] = hepg2.obs['gene']\n"
   ]
  },
  {
   "cell_type": "code",
   "execution_count": 14,
   "metadata": {},
   "outputs": [
    {
     "name": "stderr",
     "output_type": "stream",
     "text": [
      "/var/folders/1c/sqv2cjg97gncy4p2xvdsgsfr0000gn/T/ipykernel_71444/58098755.py:6: FutureWarning: The behavior of Series.replace (and DataFrame.replace) with CategoricalDtype is deprecated. In a future version, replace will only be used for cases that preserve the categories. To change the categories, use ser.cat.rename_categories instead.\n",
      "  hepg2.obs['perturbation'] = hepg2.obs['perturbation'].replace(\"non-targeting\",\"control\")\n"
     ]
    }
   ],
   "source": [
    "hepg2.obs.rename(columns={\"mitopercent\": \"percent_mito\", \"sgID_AB\":\"guide_id\", \"gem_group\":\"batch\"},inplace=True)\n",
    "hepg2.obs['ncounts']= hepg2.X.sum(1)\n",
    "hepg2.obs['ngenes'] = np.count_nonzero(hepg2.X, axis =1)\n",
    "hepg2.obs[\"nperts\"] = 1\n",
    "hepg2.obs.loc[hepg2.obs['gene'] == \"non-targeting\",\"nperts\"] = 0 \n",
    "hepg2.obs['perturbation'] = hepg2.obs['perturbation'].replace(\"non-targeting\",\"control\")\n",
    "\n",
    "# percent_ribo\n",
    "ribomat = hepg2[:,hepg2.var[\"gene_name\"].str.startswith((\"RPS\",\"RPL\"))]\n",
    "ribomat = ribomat.X.sum(1)\n",
    "hepg2.obs['percent_ribo'] = np.divide(ribomat, hepg2.obs['ncounts'])"
   ]
  },
  {
   "cell_type": "code",
   "execution_count": 15,
   "metadata": {},
   "outputs": [
    {
     "data": {
      "text/html": [
       "<div>\n",
       "<style scoped>\n",
       "    .dataframe tbody tr th:only-of-type {\n",
       "        vertical-align: middle;\n",
       "    }\n",
       "\n",
       "    .dataframe tbody tr th {\n",
       "        vertical-align: top;\n",
       "    }\n",
       "\n",
       "    .dataframe thead th {\n",
       "        text-align: right;\n",
       "    }\n",
       "</style>\n",
       "<table border=\"1\" class=\"dataframe\">\n",
       "  <thead>\n",
       "    <tr style=\"text-align: right;\">\n",
       "      <th></th>\n",
       "      <th>gene_name</th>\n",
       "      <th>chr</th>\n",
       "      <th>start</th>\n",
       "      <th>end</th>\n",
       "      <th>class</th>\n",
       "      <th>strand</th>\n",
       "      <th>length</th>\n",
       "      <th>in_matrix</th>\n",
       "      <th>mean</th>\n",
       "      <th>std</th>\n",
       "      <th>cv</th>\n",
       "      <th>fano</th>\n",
       "    </tr>\n",
       "    <tr>\n",
       "      <th>gene_id</th>\n",
       "      <th></th>\n",
       "      <th></th>\n",
       "      <th></th>\n",
       "      <th></th>\n",
       "      <th></th>\n",
       "      <th></th>\n",
       "      <th></th>\n",
       "      <th></th>\n",
       "      <th></th>\n",
       "      <th></th>\n",
       "      <th></th>\n",
       "      <th></th>\n",
       "    </tr>\n",
       "  </thead>\n",
       "  <tbody>\n",
       "    <tr>\n",
       "      <th>ENSG00000187522</th>\n",
       "      <td>HSPA14</td>\n",
       "      <td>chr10</td>\n",
       "      <td>14838306</td>\n",
       "      <td>14871741</td>\n",
       "      <td>gene_version16</td>\n",
       "      <td>+</td>\n",
       "      <td>33435</td>\n",
       "      <td>True</td>\n",
       "      <td>0.420753</td>\n",
       "      <td>0.755512</td>\n",
       "      <td>1.795619</td>\n",
       "      <td>1.356611</td>\n",
       "    </tr>\n",
       "  </tbody>\n",
       "</table>\n",
       "</div>"
      ],
      "text/plain": [
       "                gene_name    chr     start       end           class strand  \\\n",
       "gene_id                                                                       \n",
       "ENSG00000187522    HSPA14  chr10  14838306  14871741  gene_version16      +   \n",
       "\n",
       "                 length  in_matrix      mean       std        cv      fano  \n",
       "gene_id                                                                     \n",
       "ENSG00000187522   33435       True  0.420753  0.755512  1.795619  1.356611  "
      ]
     },
     "execution_count": 15,
     "metadata": {},
     "output_type": "execute_result"
    }
   ],
   "source": [
    "hepg2.var[hepg2.var['gene_name'].duplicated()]"
   ]
  },
  {
   "cell_type": "code",
   "execution_count": 16,
   "metadata": {},
   "outputs": [],
   "source": [
    "hepg2.var['gene_name'] = hepg2.var['gene_name'].astype(\"object\")\n",
    "hepg2.var.loc[hepg2.var['gene_name'] == \"HSPA14\",'gene_name']  = 'HSPA14_'+hepg2.var.loc[hepg2.var['gene_name'] == \"HSPA14\",:].index.values\n",
    "\n",
    "hepg2.var['ensembl_id'] = hepg2.var.index\n",
    "hepg2.var.set_index('gene_name', inplace=True)"
   ]
  },
  {
   "cell_type": "code",
   "execution_count": 17,
   "metadata": {},
   "outputs": [],
   "source": [
    "hepg2.var['ncounts'] = hepg2.X.sum(0)\n",
    "hepg2.var['ncells'] = np.count_nonzero(hepg2.X, axis =0)"
   ]
  },
  {
   "cell_type": "code",
   "execution_count": 18,
   "metadata": {},
   "outputs": [],
   "source": [
    "hepg2.write_h5ad(\"NadigOConner2024_hepg2.h5ad\", compression=\"gzip\")"
   ]
  }
 ],
 "metadata": {
  "kernelspec": {
   "display_name": "pertpy",
   "language": "python",
   "name": "python3"
  },
  "language_info": {
   "codemirror_mode": {
    "name": "ipython",
    "version": 3
   },
   "file_extension": ".py",
   "mimetype": "text/x-python",
   "name": "python",
   "nbconvert_exporter": "python",
   "pygments_lexer": "ipython3",
   "version": "3.11.9"
  }
 },
 "nbformat": 4,
 "nbformat_minor": 2
}
